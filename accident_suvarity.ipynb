{
  "nbformat": 4,
  "nbformat_minor": 0,
  "metadata": {
    "colab": {
      "provenance": [],
      "authorship_tag": "ABX9TyOjWOfSeAApClpWxRKYrZUn",
      "include_colab_link": true
    },
    "kernelspec": {
      "name": "python3",
      "display_name": "Python 3"
    },
    "language_info": {
      "name": "python"
    }
  },
  "cells": [
    {
      "cell_type": "markdown",
      "metadata": {
        "id": "view-in-github",
        "colab_type": "text"
      },
      "source": [
        "<a href=\"https://colab.research.google.com/github/MercyAndati/road-accident-severity-model/blob/main/accident_suvarity.ipynb\" target=\"_parent\"><img src=\"https://colab.research.google.com/assets/colab-badge.svg\" alt=\"Open In Colab\"/></a>"
      ]
    },
    {
      "cell_type": "code",
      "execution_count": 56,
      "metadata": {
        "colab": {
          "base_uri": "https://localhost:8080/"
        },
        "id": "fNMxDjlian4y",
        "outputId": "0e5d8a0f-2b64-4809-d625-19edc6be5dda"
      },
      "outputs": [
        {
          "output_type": "stream",
          "name": "stderr",
          "text": [
            "<ipython-input-56-0ca670776464>:15: FutureWarning: Downcasting behavior in `replace` is deprecated and will be removed in a future version. To retain the old behavior, explicitly call `result.infer_objects(copy=False)`. To opt-in to the future behavior, set `pd.set_option('future.no_silent_downcasting', True)`\n",
            "  df['Day_of_week'] = df['Day_of_week'].replace(day_of_week_mapping)\n",
            "<ipython-input-56-0ca670776464>:23: FutureWarning: Downcasting behavior in `replace` is deprecated and will be removed in a future version. To retain the old behavior, explicitly call `result.infer_objects(copy=False)`. To opt-in to the future behavior, set `pd.set_option('future.no_silent_downcasting', True)`\n",
            "  df['Sex_of_driver'] = df['Sex_of_driver'].replace(sex_of_driver_mapping)\n",
            "<ipython-input-56-0ca670776464>:35: FutureWarning: Downcasting behavior in `replace` is deprecated and will be removed in a future version. To retain the old behavior, explicitly call `result.infer_objects(copy=False)`. To opt-in to the future behavior, set `pd.set_option('future.no_silent_downcasting', True)`\n",
            "  df['Light_conditions'] = df['Light_conditions'].replace(light_conditions_mapping)\n",
            "<ipython-input-56-0ca670776464>:48: FutureWarning: Downcasting behavior in `replace` is deprecated and will be removed in a future version. To retain the old behavior, explicitly call `result.infer_objects(copy=False)`. To opt-in to the future behavior, set `pd.set_option('future.no_silent_downcasting', True)`\n",
            "  df['Driving_experience'] = df['Driving_experience'].replace(driving_experience_mapping)\n",
            "<ipython-input-56-0ca670776464>:60: FutureWarning: Downcasting behavior in `replace` is deprecated and will be removed in a future version. To retain the old behavior, explicitly call `result.infer_objects(copy=False)`. To opt-in to the future behavior, set `pd.set_option('future.no_silent_downcasting', True)`\n",
            "  df['Road_surface_conditions'] = df['Road_surface_conditions'].replace(road_surface_conditions_mapping)\n",
            "<ipython-input-56-0ca670776464>:76: FutureWarning: Downcasting behavior in `replace` is deprecated and will be removed in a future version. To retain the old behavior, explicitly call `result.infer_objects(copy=False)`. To opt-in to the future behavior, set `pd.set_option('future.no_silent_downcasting', True)`\n",
            "  df['Weather_conditions'] = df['Weather_conditions'].replace(weather_conditions_mapping)\n",
            "<ipython-input-56-0ca670776464>:84: FutureWarning: Downcasting behavior in `replace` is deprecated and will be removed in a future version. To retain the old behavior, explicitly call `result.infer_objects(copy=False)`. To opt-in to the future behavior, set `pd.set_option('future.no_silent_downcasting', True)`\n",
            "  df['Accident_severity'] = df['Accident_severity'].replace(accident_severity_mapping)\n"
          ]
        }
      ],
      "source": [
        "import pandas as pd\n",
        "df = pd.read_csv('/content/data.csv')\n",
        "\n",
        "# Define mappings for independent variables\n",
        "day_of_week_mapping = {\n",
        "    'Monday': 0,\n",
        "    'Tuesday': 1,\n",
        "    'Wednesday': 2,\n",
        "    'Thursday': 3,\n",
        "    'Friday': 4,\n",
        "    'Saturday': 5,\n",
        "    'Sunday': 6,\n",
        "}\n",
        "# Clean and encode\n",
        "df['Day_of_week'] = df['Day_of_week'].replace(day_of_week_mapping)\n",
        "\n",
        "sex_of_driver_mapping = {\n",
        "    'Male': 0,\n",
        "    'Female': 1,\n",
        "    'Unknown': 2,\n",
        "}\n",
        "\n",
        "df['Sex_of_driver'] = df['Sex_of_driver'].replace(sex_of_driver_mapping)\n",
        "\n",
        "light_conditions_mapping = {\n",
        "    'Daylight': 0,\n",
        "    'Darkness - lights lit': 1,\n",
        "    'Darkness - no lights': 2,\n",
        "    'Dusk': 3,\n",
        "    'Dawn': 4,\n",
        "    'Darkness - no lighting':5,\n",
        "    'Darkness - lights unlit':6\n",
        "}\n",
        "\n",
        "df['Light_conditions'] = df['Light_conditions'].replace(light_conditions_mapping)\n",
        "\n",
        "driving_experience_mapping = {\n",
        "    'Below 1yr': 0,\n",
        "    '1-2yr': 1,\n",
        "    '2-5yr': 2,\n",
        "    '5-10yr': 3,\n",
        "    'Above 10yr': 4,\n",
        "    'No Licence': 5,\n",
        "    'unknown':6,\n",
        "    ' ': -1,\n",
        "}\n",
        "\n",
        "df['Driving_experience'] = df['Driving_experience'].replace(driving_experience_mapping)\n",
        "\n",
        "road_surface_conditions_mapping = {\n",
        "    'Dry': 0,\n",
        "    'Wet or damp': 1,\n",
        "    'Icy or snowy': 2,\n",
        "    'Flooded': 3,\n",
        "    'Snow':4,\n",
        "    'Flood over 3cm. deep':5,\n",
        "    'Unknown': -1,\n",
        "}\n",
        "\n",
        "df['Road_surface_conditions'] = df['Road_surface_conditions'].replace(road_surface_conditions_mapping)\n",
        "\n",
        "weather_conditions_mapping = {\n",
        "    'Normal': 0,\n",
        "    'Raining': 1,\n",
        "    'Foggy or misty': 2,\n",
        "    'Snowy or icy': 3,\n",
        "    'Raining and Windy':4,\n",
        "    'Cloudy':5,\n",
        "    'Other':6,\n",
        "    'Windy':7,\n",
        "    'Snow':8,\n",
        "    'Fog or mist':9,\n",
        "    'Unknown': -1,\n",
        "}\n",
        "\n",
        "df['Weather_conditions'] = df['Weather_conditions'].replace(weather_conditions_mapping)\n",
        "\n",
        "accident_severity_mapping = {\n",
        "    'Slight Injury': 1,\n",
        "    'Serious Injury': 2,\n",
        "    'Fatal injury': 3,\n",
        "}\n",
        "\n",
        "df['Accident_severity'] = df['Accident_severity'].replace(accident_severity_mapping)\n",
        "# Handle missing values\n",
        "df.fillna({'Driving_experience': -1,\n",
        "            'Road_surface_conditions': -1,\n",
        "            'Weather_conditions': -1,\n",
        "            'Day_of_week': -1,\n",
        "            'Sex_of_driver': -1,\n",
        "            'Light_conditions': -1}, inplace=True)\n",
        "\n",
        "df.to_csv('cleaned_data.csv', index=False)"
      ]
    },
    {
      "cell_type": "code",
      "source": [
        "import pandas as pd\n",
        "import matplotlib.pyplot as plt\n",
        "from sklearn.linear_model import LinearRegression\n",
        "\n",
        "df = pd.read_csv('/content/cleaned_data.csv')\n",
        "\n",
        "df['Driving_experience'] = pd.to_numeric(df['Driving_experience'], errors='coerce')\n",
        "df['Accident_severity'] = pd.to_numeric(df['Accident_severity'], errors='coerce')\n",
        "\n",
        "df.plot(x='Driving_experience', y='Accident_severity', style='o')\n",
        "plt.xlabel('Driving_experience')\n",
        "plt.ylabel('Accident_severity')\n",
        "plt.show()"
      ],
      "metadata": {
        "colab": {
          "base_uri": "https://localhost:8080/",
          "height": 450
        },
        "id": "QGXUzEnfa8Ls",
        "outputId": "2a7223a0-6dff-4b7e-db6a-1c7ebfc2cdb0"
      },
      "execution_count": 49,
      "outputs": [
        {
          "output_type": "display_data",
          "data": {
            "text/plain": [
              "<Figure size 640x480 with 1 Axes>"
            ],
            "image/png": "[encoded data removed]"
          },
          "metadata": {}
        }
      ]
    },
    {
      "cell_type": "code",
      "source": [
        "import pandas as pd\n",
        "import matplotlib.pyplot as plt\n",
        "from sklearn.linear_model import LinearRegression\n",
        "\n",
        "df = pd.read_csv('/content/cleaned_data.csv')\n",
        "x=df[['Driving_experience']]\n",
        "y=df['Accident_severity']\n",
        "regressor=LinearRegression()\n",
        "regressor.fit(x,y)\n",
        "df.plot(x='Driving_experience',y='Accident_severity',style='o')\n",
        "plt.plot(x,regressor.predict(x),color='red',linewidth=2,label='Regressor line')\n",
        "plt.xlabel('Driving experience')\n",
        "plt.ylabel('Accident severity')\n",
        "plt.show()"
      ],
      "metadata": {
        "colab": {
          "base_uri": "https://localhost:8080/",
          "height": 449
        },
        "id": "8UkzOudMc79i",
        "outputId": "e48842df-44b5-4954-c001-123468a3b777"
      },
      "execution_count": 50,
      "outputs": [
        {
          "output_type": "display_data",
          "data": {
            "text/plain": [
              "<Figure size 640x480 with 1 Axes>"
            ],
            "image/png": "[encoded data removed]"
          },
          "metadata": {}
        }
      ]
    },
    {
      "cell_type": "code",
      "source": [
        "import pandas as pd\n",
        "from sklearn.model_selection import train_test_split\n",
        "\n",
        "df = pd.read_csv('/content/cleaned_data.csv')\n",
        "x = pd.DataFrame(df[['Driving_experience', 'Road_surface_conditions','Weather_conditions','Light_conditions','Day_of_week']])\n",
        "y=pd.DataFrame(df['Accident_severity'])\n",
        "\n",
        "x_train, x_test, y_train, y_test = train_test_split(x, y, test_size=0.2, random_state=1)\n",
        "\n",
        "print(x_train.shape)\n",
        "print(x_test.shape)\n",
        "print(y_train.shape)\n",
        "print(y_test.shape)"
      ],
      "metadata": {
        "colab": {
          "base_uri": "https://localhost:8080/"
        },
        "id": "YCd4sx8DhYaJ",
        "outputId": "e2fee987-656a-42ca-8aef-1905cab3d60f"
      },
      "execution_count": 54,
      "outputs": [
        {
          "output_type": "stream",
          "name": "stdout",
          "text": [
            "(9852, 5)\n",
            "(2464, 5)\n",
            "(9852, 1)\n",
            "(2464, 1)\n"
          ]
        }
      ]
    },
    {
      "cell_type": "code",
      "source": [
        "import pandas as pd\n",
        "from sklearn.model_selection import train_test_split\n",
        "from sklearn.linear_model import LinearRegression\n",
        "from sklearn.preprocessing import LabelEncoder\n",
        "\n",
        "df = pd.read_csv('/content/cleaned_data.csv')\n",
        "\n",
        "independent_variables = ['Driving_experience', 'Road_surface_conditions', 'Weather_conditions','Light_conditions','Day_of_week']\n",
        "x = df[independent_variables]\n",
        "y = df['Accident_severity']\n",
        "\n",
        "x_train, x_test, y_train, y_test = train_test_split(x, y, test_size=0.2, random_state=1)\n",
        "\n",
        "regressor = LinearRegression()\n",
        "regressor.fit(x_train, y_train)\n",
        "print(regressor.intercept_)\n",
        "print(regressor.coef_)"
      ],
      "metadata": {
        "colab": {
          "base_uri": "https://localhost:8080/"
        },
        "id": "tbjNNk6Kh4ZY",
        "outputId": "2377b67f-7342-43c0-ccee-7eddce40a4e3"
      },
      "execution_count": 57,
      "outputs": [
        {
          "output_type": "stream",
          "name": "stdout",
          "text": [
            "1.1487742435575834\n",
            "[-0.00246344  0.00281465 -0.01385205  0.0271694   0.00651307]\n"
          ]
        }
      ]
    },
    {
      "cell_type": "code",
      "source": [
        "y_pred=regressor.predict(x_test)\n",
        "y_pred"
      ],
      "metadata": {
        "colab": {
          "base_uri": "https://localhost:8080/"
        },
        "id": "dETuSQRyij39",
        "outputId": "8eb06fd0-9c02-481c-fc67-fd98c13e7dcb"
      },
      "execution_count": 58,
      "outputs": [
        {
          "output_type": "execute_result",
          "data": {
            "text/plain": [
              "array([1.14789699, 1.17641271, 1.15845968, ..., 1.19337062, 1.15769941,\n",
              "       1.15973949])"
            ]
          },
          "metadata": {},
          "execution_count": 58
        }
      ]
    },
    {
      "cell_type": "code",
      "source": [
        "y_test.head(20)"
      ],
      "metadata": {
        "colab": {
          "base_uri": "https://localhost:8080/",
          "height": 711
        },
        "id": "1QYWn6wSiu-N",
        "outputId": "e515d7e7-abf1-4172-c383-2c756b37cda6"
      },
      "execution_count": 59,
      "outputs": [
        {
          "output_type": "execute_result",
          "data": {
            "text/plain": [
              "10974    1\n",
              "5748     1\n",
              "4941     1\n",
              "11832    1\n",
              "8173     1\n",
              "5453     2\n",
              "7491     1\n",
              "3728     1\n",
              "1070     2\n",
              "9124     2\n",
              "4500     1\n",
              "8408     1\n",
              "4175     1\n",
              "8228     2\n",
              "2164     1\n",
              "223      2\n",
              "7437     1\n",
              "10768    1\n",
              "2027     1\n",
              "10681    1\n",
              "Name: Accident_severity, dtype: int64"
            ],
            "text/html": [
              "<div>\n",
              "<style scoped>\n",
              "    .dataframe tbody tr th:only-of-type {\n",
              "        vertical-align: middle;\n",
              "    }\n",
              "\n",
              "    .dataframe tbody tr th {\n",
              "        vertical-align: top;\n",
              "    }\n",
              "\n",
              "    .dataframe thead th {\n",
              "        text-align: right;\n",
              "    }\n",
              "</style>\n",
              "<table border=\"1\" class=\"dataframe\">\n",
              "  <thead>\n",
              "    <tr style=\"text-align: right;\">\n",
              "      <th></th>\n",
              "      <th>Accident_severity</th>\n",
              "    </tr>\n",
              "  </thead>\n",
              "  <tbody>\n",
              "    <tr>\n",
              "      <th>10974</th>\n",
              "      <td>1</td>\n",
              "    </tr>\n",
              "    <tr>\n",
              "      <th>5748</th>\n",
              "      <td>1</td>\n",
              "    </tr>\n",
              "    <tr>\n",
              "      <th>4941</th>\n",
              "      <td>1</td>\n",
              "    </tr>\n",
              "    <tr>\n",
              "      <th>11832</th>\n",
              "      <td>1</td>\n",
              "    </tr>\n",
              "    <tr>\n",
              "      <th>8173</th>\n",
              "      <td>1</td>\n",
              "    </tr>\n",
              "    <tr>\n",
              "      <th>5453</th>\n",
              "      <td>2</td>\n",
              "    </tr>\n",
              "    <tr>\n",
              "      <th>7491</th>\n",
              "      <td>1</td>\n",
              "    </tr>\n",
              "    <tr>\n",
              "      <th>3728</th>\n",
              "      <td>1</td>\n",
              "    </tr>\n",
              "    <tr>\n",
              "      <th>1070</th>\n",
              "      <td>2</td>\n",
              "    </tr>\n",
              "    <tr>\n",
              "      <th>9124</th>\n",
              "      <td>2</td>\n",
              "    </tr>\n",
              "    <tr>\n",
              "      <th>4500</th>\n",
              "      <td>1</td>\n",
              "    </tr>\n",
              "    <tr>\n",
              "      <th>8408</th>\n",
              "      <td>1</td>\n",
              "    </tr>\n",
              "    <tr>\n",
              "      <th>4175</th>\n",
              "      <td>1</td>\n",
              "    </tr>\n",
              "    <tr>\n",
              "      <th>8228</th>\n",
              "      <td>2</td>\n",
              "    </tr>\n",
              "    <tr>\n",
              "      <th>2164</th>\n",
              "      <td>1</td>\n",
              "    </tr>\n",
              "    <tr>\n",
              "      <th>223</th>\n",
              "      <td>2</td>\n",
              "    </tr>\n",
              "    <tr>\n",
              "      <th>7437</th>\n",
              "      <td>1</td>\n",
              "    </tr>\n",
              "    <tr>\n",
              "      <th>10768</th>\n",
              "      <td>1</td>\n",
              "    </tr>\n",
              "    <tr>\n",
              "      <th>2027</th>\n",
              "      <td>1</td>\n",
              "    </tr>\n",
              "    <tr>\n",
              "      <th>10681</th>\n",
              "      <td>1</td>\n",
              "    </tr>\n",
              "  </tbody>\n",
              "</table>\n",
              "</div><br><label><b>dtype:</b> int64</label>"
            ]
          },
          "metadata": {},
          "execution_count": 59
        }
      ]
    },
    {
      "cell_type": "code",
      "source": [
        "from sklearn import metrics\n",
        "import numpy as np\n",
        "mae=metrics.mean_absolute_error(y_test,y_pred)\n",
        "mse=metrics.mean_squared_error(y_test,y_pred)\n",
        "rmse=np.sqrt(mae)\n",
        "print('mean absolute error',mae)\n",
        "print('mean squared error',mae)\n",
        "print('Root mean squared error',rmse)"
      ],
      "metadata": {
        "colab": {
          "base_uri": "https://localhost:8080/"
        },
        "id": "Kq2L8sKyi3dE",
        "outputId": "6a2fdb51-3636-4b50-de82-79a20650c3b0"
      },
      "execution_count": 60,
      "outputs": [
        {
          "output_type": "stream",
          "name": "stdout",
          "text": [
            "mean absolute error 0.2788046662370771\n",
            "mean squared error 0.2788046662370771\n",
            "Root mean squared error 0.5280195699375896\n"
          ]
        }
      ]
    },
    {
      "cell_type": "code",
      "source": [
        "import joblib\n",
        "from sklearn.linear_model import LinearRegression\n",
        "regressor=LinearRegression()\n",
        "regressor.fit(x,y)\n",
        "joblib.dump(regressor,'linear_regression_model.plk')"
      ],
      "metadata": {
        "colab": {
          "base_uri": "https://localhost:8080/"
        },
        "id": "NxqaL30IjAEM",
        "outputId": "43370b03-02ac-4e5d-f31e-ca8119599061"
      },
      "execution_count": 61,
      "outputs": [
        {
          "output_type": "execute_result",
          "data": {
            "text/plain": [
              "['linear_regression_model.plk']"
            ]
          },
          "metadata": {},
          "execution_count": 61
        }
      ]
    },
    {
      "cell_type": "code",
      "source": [
        "import joblib\n",
        "import pandas as pd\n",
        "import numpy as np\n",
        "\n",
        "new_x = np.array([\n",
        "    [4, 1, 3, 1, 6],\n",
        "    [4, 2, 3, 1, 6],\n",
        "    [5, 2, 8, 1, 5],\n",
        "    [4, 1, 4, 4, 4],\n",
        "    [5, 2, 5, 5, 5],\n",
        "    [2, 0, 6, 6, 5],\n",
        "    [1, 1, 7, 0, 6],\n",
        "    [4, -1 ,8 ,1 ,2],\n",
        "    [5, 1, 1, 1, 4],\n",
        "    [3, -1 ,6 ,3 ,3]\n",
        "])\n",
        "regressor = joblib.load('linear_regression_model.plk')\n",
        "predictions = regressor.predict(new_x)\n",
        "\n",
        "rounded_predictions = np.rint(predictions)\n",
        "new_data = pd.DataFrame({\n",
        "    'Driving_experience': new_x[:, 0],\n",
        "    'Road_surface_conditions': new_x[:, 1],\n",
        "    'Weather_conditions': new_x[:, 2],\n",
        "    'Light_conditions': new_x[:,3],\n",
        "    'Day_of_week': new_x[:,4],\n",
        "    'Predicted_accident suvarity':rounded_predictions.flatten()\n",
        "})\n",
        "print(new_data)"
      ],
      "metadata": {
        "colab": {
          "base_uri": "https://localhost:8080/"
        },
        "id": "7PRe_Oe1jLIX",
        "outputId": "d7bd61fa-6b12-4acc-93e7-38e119678204"
      },
      "execution_count": 65,
      "outputs": [
        {
          "output_type": "stream",
          "name": "stdout",
          "text": [
            "   Driving_experience  Road_surface_conditions  Weather_conditions  \\\n",
            "0                   4                        1                   3   \n",
            "1                   4                        2                   3   \n",
            "2                   5                        2                   8   \n",
            "3                   4                        1                   4   \n",
            "4                   5                        2                   5   \n",
            "5                   2                        0                   6   \n",
            "6                   1                        1                   7   \n",
            "7                   4                       -1                   8   \n",
            "8                   5                        1                   1   \n",
            "9                   3                       -1                   6   \n",
            "\n",
            "   Light_conditions  Day_of_week  Predicted_accident suvarity  \n",
            "0                 1            6                          1.0  \n",
            "1                 1            6                          1.0  \n",
            "2                 1            5                          1.0  \n",
            "3                 4            4                          1.0  \n",
            "4                 5            5                          1.0  \n",
            "5                 6            5                          1.0  \n",
            "6                 0            6                          1.0  \n",
            "7                 1            2                          1.0  \n",
            "8                 1            4                          1.0  \n",
            "9                 3            3                          1.0  \n"
          ]
        },
        {
          "output_type": "stream",
          "name": "stderr",
          "text": [
            "/usr/local/lib/python3.10/dist-packages/sklearn/base.py:493: UserWarning: X does not have valid feature names, but LinearRegression was fitted with feature names\n",
            "  warnings.warn(\n"
          ]
        }
      ]
    }
  ]
}